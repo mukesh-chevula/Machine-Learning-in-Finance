{
 "cells": [
  {
   "cell_type": "code",
   "execution_count": 1,
   "metadata": {},
   "outputs": [],
   "source": [
    "import pandas as pd\n",
    "from sklearn.model_selection import train_test_split\n",
    "from sklearn.tree import DecisionTreeRegressor\n",
    "from sklearn.metrics import r2_score\n",
    "import matplotlib.pyplot as plt\n",
    "import seaborn as sns"
   ]
  },
  {
   "cell_type": "code",
   "execution_count": 2,
   "metadata": {},
   "outputs": [],
   "source": [
    "apple_stock = pd.read_csv('apple_stock_prepared.csv')"
   ]
  },
  {
   "cell_type": "code",
   "execution_count": 3,
   "metadata": {},
   "outputs": [
    {
     "data": {
      "text/html": [
       "<div>\n",
       "<style scoped>\n",
       "    .dataframe tbody tr th:only-of-type {\n",
       "        vertical-align: middle;\n",
       "    }\n",
       "\n",
       "    .dataframe tbody tr th {\n",
       "        vertical-align: top;\n",
       "    }\n",
       "\n",
       "    .dataframe thead th {\n",
       "        text-align: right;\n",
       "    }\n",
       "</style>\n",
       "<table border=\"1\" class=\"dataframe\">\n",
       "  <thead>\n",
       "    <tr style=\"text-align: right;\">\n",
       "      <th></th>\n",
       "      <th>volume</th>\n",
       "      <th>close_lag1</th>\n",
       "      <th>close_lag2</th>\n",
       "      <th>close_lag3</th>\n",
       "      <th>close_lag4</th>\n",
       "      <th>close_lag5</th>\n",
       "      <th>close_lag6</th>\n",
       "      <th>ma_3</th>\n",
       "      <th>rsi_3</th>\n",
       "      <th>ma_6</th>\n",
       "      <th>rsi_6</th>\n",
       "      <th>ma_9</th>\n",
       "      <th>rsi_9</th>\n",
       "      <th>ma_12</th>\n",
       "      <th>rsi_12</th>\n",
       "      <th>event</th>\n",
       "      <th>close</th>\n",
       "    </tr>\n",
       "  </thead>\n",
       "  <tbody>\n",
       "    <tr>\n",
       "      <th>0</th>\n",
       "      <td>-0.464011</td>\n",
       "      <td>-0.767950</td>\n",
       "      <td>-0.747017</td>\n",
       "      <td>-0.739101</td>\n",
       "      <td>-0.639217</td>\n",
       "      <td>-0.669514</td>\n",
       "      <td>-0.646494</td>\n",
       "      <td>0.627785</td>\n",
       "      <td>-1.812133</td>\n",
       "      <td>4.368171</td>\n",
       "      <td>-1.830292</td>\n",
       "      <td>7.716514</td>\n",
       "      <td>-1.862736</td>\n",
       "      <td>8.506598</td>\n",
       "      <td>-1.880503</td>\n",
       "      <td>-0.456953</td>\n",
       "      <td>2.338571</td>\n",
       "    </tr>\n",
       "    <tr>\n",
       "      <th>1</th>\n",
       "      <td>-0.190969</td>\n",
       "      <td>-0.769480</td>\n",
       "      <td>-0.758587</td>\n",
       "      <td>-0.738967</td>\n",
       "      <td>-0.732728</td>\n",
       "      <td>-0.632766</td>\n",
       "      <td>-0.662760</td>\n",
       "      <td>-0.579982</td>\n",
       "      <td>-1.183392</td>\n",
       "      <td>1.505926</td>\n",
       "      <td>-1.592107</td>\n",
       "      <td>3.501353</td>\n",
       "      <td>-1.710687</td>\n",
       "      <td>5.255354</td>\n",
       "      <td>-1.767605</td>\n",
       "      <td>-0.456953</td>\n",
       "      <td>2.945714</td>\n",
       "    </tr>\n",
       "    <tr>\n",
       "      <th>2</th>\n",
       "      <td>-0.723175</td>\n",
       "      <td>-0.760056</td>\n",
       "      <td>-0.760125</td>\n",
       "      <td>-0.750631</td>\n",
       "      <td>-0.732592</td>\n",
       "      <td>-0.727153</td>\n",
       "      <td>-0.625758</td>\n",
       "      <td>-0.115027</td>\n",
       "      <td>-1.286573</td>\n",
       "      <td>0.152772</td>\n",
       "      <td>-1.626297</td>\n",
       "      <td>2.429129</td>\n",
       "      <td>-1.732050</td>\n",
       "      <td>4.553852</td>\n",
       "      <td>-1.782792</td>\n",
       "      <td>-0.456953</td>\n",
       "      <td>2.750000</td>\n",
       "    </tr>\n",
       "    <tr>\n",
       "      <th>3</th>\n",
       "      <td>-0.570132</td>\n",
       "      <td>-0.763094</td>\n",
       "      <td>-0.750650</td>\n",
       "      <td>-0.752182</td>\n",
       "      <td>-0.744357</td>\n",
       "      <td>-0.727016</td>\n",
       "      <td>-0.720797</td>\n",
       "      <td>-0.092085</td>\n",
       "      <td>-0.982726</td>\n",
       "      <td>-0.217920</td>\n",
       "      <td>-1.529132</td>\n",
       "      <td>1.347659</td>\n",
       "      <td>-1.674853</td>\n",
       "      <td>2.875177</td>\n",
       "      <td>-1.742103</td>\n",
       "      <td>-0.456953</td>\n",
       "      <td>2.941429</td>\n",
       "    </tr>\n",
       "    <tr>\n",
       "      <th>4</th>\n",
       "      <td>-0.692599</td>\n",
       "      <td>-0.760123</td>\n",
       "      <td>-0.753705</td>\n",
       "      <td>-0.742630</td>\n",
       "      <td>-0.745922</td>\n",
       "      <td>-0.738891</td>\n",
       "      <td>-0.720659</td>\n",
       "      <td>-0.694639</td>\n",
       "      <td>-0.034087</td>\n",
       "      <td>-0.992704</td>\n",
       "      <td>-1.141034</td>\n",
       "      <td>-0.009939</td>\n",
       "      <td>-1.444629</td>\n",
       "      <td>1.005462</td>\n",
       "      <td>-1.579137</td>\n",
       "      <td>-0.456953</td>\n",
       "      <td>3.678571</td>\n",
       "    </tr>\n",
       "  </tbody>\n",
       "</table>\n",
       "</div>"
      ],
      "text/plain": [
       "     volume  close_lag1  close_lag2  close_lag3  close_lag4  close_lag5  \\\n",
       "0 -0.464011   -0.767950   -0.747017   -0.739101   -0.639217   -0.669514   \n",
       "1 -0.190969   -0.769480   -0.758587   -0.738967   -0.732728   -0.632766   \n",
       "2 -0.723175   -0.760056   -0.760125   -0.750631   -0.732592   -0.727153   \n",
       "3 -0.570132   -0.763094   -0.750650   -0.752182   -0.744357   -0.727016   \n",
       "4 -0.692599   -0.760123   -0.753705   -0.742630   -0.745922   -0.738891   \n",
       "\n",
       "   close_lag6      ma_3     rsi_3      ma_6     rsi_6      ma_9     rsi_9  \\\n",
       "0   -0.646494  0.627785 -1.812133  4.368171 -1.830292  7.716514 -1.862736   \n",
       "1   -0.662760 -0.579982 -1.183392  1.505926 -1.592107  3.501353 -1.710687   \n",
       "2   -0.625758 -0.115027 -1.286573  0.152772 -1.626297  2.429129 -1.732050   \n",
       "3   -0.720797 -0.092085 -0.982726 -0.217920 -1.529132  1.347659 -1.674853   \n",
       "4   -0.720659 -0.694639 -0.034087 -0.992704 -1.141034 -0.009939 -1.444629   \n",
       "\n",
       "      ma_12    rsi_12     event     close  \n",
       "0  8.506598 -1.880503 -0.456953  2.338571  \n",
       "1  5.255354 -1.767605 -0.456953  2.945714  \n",
       "2  4.553852 -1.782792 -0.456953  2.750000  \n",
       "3  2.875177 -1.742103 -0.456953  2.941429  \n",
       "4  1.005462 -1.579137 -0.456953  3.678571  "
      ]
     },
     "execution_count": 3,
     "metadata": {},
     "output_type": "execute_result"
    }
   ],
   "source": [
    "apple_stock.head()"
   ]
  },
  {
   "cell_type": "code",
   "execution_count": 4,
   "metadata": {},
   "outputs": [],
   "source": [
    "X = apple_stock.loc[:, apple_stock.columns != 'close']\n",
    "Y = apple_stock['close']"
   ]
  },
  {
   "cell_type": "code",
   "execution_count": 5,
   "metadata": {},
   "outputs": [],
   "source": [
    "X_train, X_test, Y_train, Y_test = train_test_split(X,Y,random_state=42, test_size=0.2)"
   ]
  },
  {
   "cell_type": "code",
   "execution_count": 6,
   "metadata": {},
   "outputs": [
    {
     "name": "stdout",
     "output_type": "stream",
     "text": [
      "Length Of training data  156\n",
      "Length Of test data  40\n",
      "Length Of training Y  156\n",
      "Length Of test data Y 40\n"
     ]
    }
   ],
   "source": [
    "print(\"Length Of training data \", len(X_train))\n",
    "print(\"Length Of test data \", len(X_test))\n",
    "print(\"Length Of training Y \", len(Y_train))\n",
    "print(\"Length Of test data Y\", len(Y_test))"
   ]
  },
  {
   "cell_type": "code",
   "execution_count": 7,
   "metadata": {},
   "outputs": [
    {
     "data": {
      "text/html": [
       "<style>#sk-container-id-1 {color: black;background-color: white;}#sk-container-id-1 pre{padding: 0;}#sk-container-id-1 div.sk-toggleable {background-color: white;}#sk-container-id-1 label.sk-toggleable__label {cursor: pointer;display: block;width: 100%;margin-bottom: 0;padding: 0.3em;box-sizing: border-box;text-align: center;}#sk-container-id-1 label.sk-toggleable__label-arrow:before {content: \"▸\";float: left;margin-right: 0.25em;color: #696969;}#sk-container-id-1 label.sk-toggleable__label-arrow:hover:before {color: black;}#sk-container-id-1 div.sk-estimator:hover label.sk-toggleable__label-arrow:before {color: black;}#sk-container-id-1 div.sk-toggleable__content {max-height: 0;max-width: 0;overflow: hidden;text-align: left;background-color: #f0f8ff;}#sk-container-id-1 div.sk-toggleable__content pre {margin: 0.2em;color: black;border-radius: 0.25em;background-color: #f0f8ff;}#sk-container-id-1 input.sk-toggleable__control:checked~div.sk-toggleable__content {max-height: 200px;max-width: 100%;overflow: auto;}#sk-container-id-1 input.sk-toggleable__control:checked~label.sk-toggleable__label-arrow:before {content: \"▾\";}#sk-container-id-1 div.sk-estimator input.sk-toggleable__control:checked~label.sk-toggleable__label {background-color: #d4ebff;}#sk-container-id-1 div.sk-label input.sk-toggleable__control:checked~label.sk-toggleable__label {background-color: #d4ebff;}#sk-container-id-1 input.sk-hidden--visually {border: 0;clip: rect(1px 1px 1px 1px);clip: rect(1px, 1px, 1px, 1px);height: 1px;margin: -1px;overflow: hidden;padding: 0;position: absolute;width: 1px;}#sk-container-id-1 div.sk-estimator {font-family: monospace;background-color: #f0f8ff;border: 1px dotted black;border-radius: 0.25em;box-sizing: border-box;margin-bottom: 0.5em;}#sk-container-id-1 div.sk-estimator:hover {background-color: #d4ebff;}#sk-container-id-1 div.sk-parallel-item::after {content: \"\";width: 100%;border-bottom: 1px solid gray;flex-grow: 1;}#sk-container-id-1 div.sk-label:hover label.sk-toggleable__label {background-color: #d4ebff;}#sk-container-id-1 div.sk-serial::before {content: \"\";position: absolute;border-left: 1px solid gray;box-sizing: border-box;top: 0;bottom: 0;left: 50%;z-index: 0;}#sk-container-id-1 div.sk-serial {display: flex;flex-direction: column;align-items: center;background-color: white;padding-right: 0.2em;padding-left: 0.2em;position: relative;}#sk-container-id-1 div.sk-item {position: relative;z-index: 1;}#sk-container-id-1 div.sk-parallel {display: flex;align-items: stretch;justify-content: center;background-color: white;position: relative;}#sk-container-id-1 div.sk-item::before, #sk-container-id-1 div.sk-parallel-item::before {content: \"\";position: absolute;border-left: 1px solid gray;box-sizing: border-box;top: 0;bottom: 0;left: 50%;z-index: -1;}#sk-container-id-1 div.sk-parallel-item {display: flex;flex-direction: column;z-index: 1;position: relative;background-color: white;}#sk-container-id-1 div.sk-parallel-item:first-child::after {align-self: flex-end;width: 50%;}#sk-container-id-1 div.sk-parallel-item:last-child::after {align-self: flex-start;width: 50%;}#sk-container-id-1 div.sk-parallel-item:only-child::after {width: 0;}#sk-container-id-1 div.sk-dashed-wrapped {border: 1px dashed gray;margin: 0 0.4em 0.5em 0.4em;box-sizing: border-box;padding-bottom: 0.4em;background-color: white;}#sk-container-id-1 div.sk-label label {font-family: monospace;font-weight: bold;display: inline-block;line-height: 1.2em;}#sk-container-id-1 div.sk-label-container {text-align: center;}#sk-container-id-1 div.sk-container {/* jupyter's `normalize.less` sets `[hidden] { display: none; }` but bootstrap.min.css set `[hidden] { display: none !important; }` so we also need the `!important` here to be able to override the default hidden behavior on the sphinx rendered scikit-learn.org. See: https://github.com/scikit-learn/scikit-learn/issues/21755 */display: inline-block !important;position: relative;}#sk-container-id-1 div.sk-text-repr-fallback {display: none;}</style><div id=\"sk-container-id-1\" class=\"sk-top-container\"><div class=\"sk-text-repr-fallback\"><pre>DecisionTreeRegressor(max_depth=2, min_samples_split=5)</pre><b>In a Jupyter environment, please rerun this cell to show the HTML representation or trust the notebook. <br />On GitHub, the HTML representation is unable to render, please try loading this page with nbviewer.org.</b></div><div class=\"sk-container\" hidden><div class=\"sk-item\"><div class=\"sk-estimator sk-toggleable\"><input class=\"sk-toggleable__control sk-hidden--visually\" id=\"sk-estimator-id-1\" type=\"checkbox\" checked><label for=\"sk-estimator-id-1\" class=\"sk-toggleable__label sk-toggleable__label-arrow\">DecisionTreeRegressor</label><div class=\"sk-toggleable__content\"><pre>DecisionTreeRegressor(max_depth=2, min_samples_split=5)</pre></div></div></div></div></div>"
      ],
      "text/plain": [
       "DecisionTreeRegressor(max_depth=2, min_samples_split=5)"
      ]
     },
     "execution_count": 7,
     "metadata": {},
     "output_type": "execute_result"
    }
   ],
   "source": [
    "dtr = DecisionTreeRegressor(max_depth = 2, min_samples_split=5)\n",
    "dtr.fit(X_train,Y_train)"
   ]
  },
  {
   "cell_type": "code",
   "execution_count": 16,
   "metadata": {},
   "outputs": [],
   "source": [
    "Y_train_pred = dtr.predict(X_train)"
   ]
  },
  {
   "cell_type": "markdown",
   "metadata": {},
   "source": [
    "##### R Squared on training data"
   ]
  },
  {
   "cell_type": "code",
   "execution_count": 17,
   "metadata": {},
   "outputs": [
    {
     "data": {
      "text/plain": [
       "0.9212766627116157"
      ]
     },
     "execution_count": 17,
     "metadata": {},
     "output_type": "execute_result"
    }
   ],
   "source": [
    "r2_score(Y_train, Y_train_pred)"
   ]
  },
  {
   "cell_type": "markdown",
   "metadata": {},
   "source": [
    "#### R Squared on test data"
   ]
  },
  {
   "cell_type": "code",
   "execution_count": 18,
   "metadata": {},
   "outputs": [],
   "source": [
    "Y_test_pred = dtr.predict(X_test)"
   ]
  },
  {
   "cell_type": "code",
   "execution_count": 19,
   "metadata": {},
   "outputs": [
    {
     "data": {
      "text/plain": [
       "0.8680317979644208"
      ]
     },
     "execution_count": 19,
     "metadata": {},
     "output_type": "execute_result"
    }
   ],
   "source": [
    "r2_score(Y_test, Y_test_pred)"
   ]
  },
  {
   "cell_type": "code",
   "execution_count": null,
   "metadata": {},
   "outputs": [],
   "source": []
  }
 ],
 "metadata": {
  "kernelspec": {
   "display_name": "Python 3 (ipykernel)",
   "language": "python",
   "name": "python3"
  },
  "language_info": {
   "codemirror_mode": {
    "name": "ipython",
    "version": 3
   },
   "file_extension": ".py",
   "mimetype": "text/x-python",
   "name": "python",
   "nbconvert_exporter": "python",
   "pygments_lexer": "ipython3",
   "version": "3.11.9"
  }
 },
 "nbformat": 4,
 "nbformat_minor": 4
}
