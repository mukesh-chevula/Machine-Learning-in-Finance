{
 "cells": [
  {
   "cell_type": "markdown",
   "metadata": {},
   "source": [
    "### 1. Prepare data for ingestion into the neural network."
   ]
  },
  {
   "cell_type": "code",
   "execution_count": 1,
   "metadata": {},
   "outputs": [],
   "source": [
    "import pandas as pd\n",
    "import warnings\n",
    "\n",
    "warnings.filterwarnings('ignore')"
   ]
  },
  {
   "cell_type": "code",
   "execution_count": 2,
   "metadata": {},
   "outputs": [
    {
     "data": {
      "text/html": [
       "<div>\n",
       "<style scoped>\n",
       "    .dataframe tbody tr th:only-of-type {\n",
       "        vertical-align: middle;\n",
       "    }\n",
       "\n",
       "    .dataframe tbody tr th {\n",
       "        vertical-align: top;\n",
       "    }\n",
       "\n",
       "    .dataframe thead th {\n",
       "        text-align: right;\n",
       "    }\n",
       "</style>\n",
       "<table border=\"1\" class=\"dataframe\">\n",
       "  <thead>\n",
       "    <tr style=\"text-align: right;\">\n",
       "      <th></th>\n",
       "      <th>volume</th>\n",
       "      <th>close_lag1</th>\n",
       "      <th>close_lag2</th>\n",
       "      <th>close_lag3</th>\n",
       "      <th>close_lag4</th>\n",
       "      <th>close_lag5</th>\n",
       "      <th>close_lag6</th>\n",
       "      <th>ma_3</th>\n",
       "      <th>rsi_3</th>\n",
       "      <th>ma_6</th>\n",
       "      <th>rsi_6</th>\n",
       "      <th>ma_9</th>\n",
       "      <th>rsi_9</th>\n",
       "      <th>ma_12</th>\n",
       "      <th>rsi_12</th>\n",
       "      <th>event</th>\n",
       "      <th>close</th>\n",
       "    </tr>\n",
       "  </thead>\n",
       "  <tbody>\n",
       "    <tr>\n",
       "      <th>0</th>\n",
       "      <td>-0.464011</td>\n",
       "      <td>-0.767950</td>\n",
       "      <td>-0.747017</td>\n",
       "      <td>-0.739101</td>\n",
       "      <td>-0.639217</td>\n",
       "      <td>-0.669514</td>\n",
       "      <td>-0.646494</td>\n",
       "      <td>0.627785</td>\n",
       "      <td>-1.812133</td>\n",
       "      <td>4.368171</td>\n",
       "      <td>-1.830292</td>\n",
       "      <td>7.716514</td>\n",
       "      <td>-1.862736</td>\n",
       "      <td>8.506598</td>\n",
       "      <td>-1.880503</td>\n",
       "      <td>-0.456953</td>\n",
       "      <td>2.338571</td>\n",
       "    </tr>\n",
       "    <tr>\n",
       "      <th>1</th>\n",
       "      <td>-0.190969</td>\n",
       "      <td>-0.769480</td>\n",
       "      <td>-0.758587</td>\n",
       "      <td>-0.738967</td>\n",
       "      <td>-0.732728</td>\n",
       "      <td>-0.632766</td>\n",
       "      <td>-0.662760</td>\n",
       "      <td>-0.579982</td>\n",
       "      <td>-1.183392</td>\n",
       "      <td>1.505926</td>\n",
       "      <td>-1.592107</td>\n",
       "      <td>3.501353</td>\n",
       "      <td>-1.710687</td>\n",
       "      <td>5.255354</td>\n",
       "      <td>-1.767605</td>\n",
       "      <td>-0.456953</td>\n",
       "      <td>2.945714</td>\n",
       "    </tr>\n",
       "    <tr>\n",
       "      <th>2</th>\n",
       "      <td>-0.723175</td>\n",
       "      <td>-0.760056</td>\n",
       "      <td>-0.760125</td>\n",
       "      <td>-0.750631</td>\n",
       "      <td>-0.732592</td>\n",
       "      <td>-0.727153</td>\n",
       "      <td>-0.625758</td>\n",
       "      <td>-0.115027</td>\n",
       "      <td>-1.286573</td>\n",
       "      <td>0.152772</td>\n",
       "      <td>-1.626297</td>\n",
       "      <td>2.429129</td>\n",
       "      <td>-1.732050</td>\n",
       "      <td>4.553852</td>\n",
       "      <td>-1.782792</td>\n",
       "      <td>-0.456953</td>\n",
       "      <td>2.750000</td>\n",
       "    </tr>\n",
       "    <tr>\n",
       "      <th>3</th>\n",
       "      <td>-0.570132</td>\n",
       "      <td>-0.763094</td>\n",
       "      <td>-0.750650</td>\n",
       "      <td>-0.752182</td>\n",
       "      <td>-0.744357</td>\n",
       "      <td>-0.727016</td>\n",
       "      <td>-0.720797</td>\n",
       "      <td>-0.092085</td>\n",
       "      <td>-0.982726</td>\n",
       "      <td>-0.217920</td>\n",
       "      <td>-1.529132</td>\n",
       "      <td>1.347659</td>\n",
       "      <td>-1.674853</td>\n",
       "      <td>2.875177</td>\n",
       "      <td>-1.742103</td>\n",
       "      <td>-0.456953</td>\n",
       "      <td>2.941429</td>\n",
       "    </tr>\n",
       "    <tr>\n",
       "      <th>4</th>\n",
       "      <td>-0.692599</td>\n",
       "      <td>-0.760123</td>\n",
       "      <td>-0.753705</td>\n",
       "      <td>-0.742630</td>\n",
       "      <td>-0.745922</td>\n",
       "      <td>-0.738891</td>\n",
       "      <td>-0.720659</td>\n",
       "      <td>-0.694639</td>\n",
       "      <td>-0.034087</td>\n",
       "      <td>-0.992704</td>\n",
       "      <td>-1.141034</td>\n",
       "      <td>-0.009939</td>\n",
       "      <td>-1.444629</td>\n",
       "      <td>1.005462</td>\n",
       "      <td>-1.579137</td>\n",
       "      <td>-0.456953</td>\n",
       "      <td>3.678571</td>\n",
       "    </tr>\n",
       "  </tbody>\n",
       "</table>\n",
       "</div>"
      ],
      "text/plain": [
       "     volume  close_lag1  close_lag2  close_lag3  close_lag4  close_lag5  \\\n",
       "0 -0.464011   -0.767950   -0.747017   -0.739101   -0.639217   -0.669514   \n",
       "1 -0.190969   -0.769480   -0.758587   -0.738967   -0.732728   -0.632766   \n",
       "2 -0.723175   -0.760056   -0.760125   -0.750631   -0.732592   -0.727153   \n",
       "3 -0.570132   -0.763094   -0.750650   -0.752182   -0.744357   -0.727016   \n",
       "4 -0.692599   -0.760123   -0.753705   -0.742630   -0.745922   -0.738891   \n",
       "\n",
       "   close_lag6      ma_3     rsi_3      ma_6     rsi_6      ma_9     rsi_9  \\\n",
       "0   -0.646494  0.627785 -1.812133  4.368171 -1.830292  7.716514 -1.862736   \n",
       "1   -0.662760 -0.579982 -1.183392  1.505926 -1.592107  3.501353 -1.710687   \n",
       "2   -0.625758 -0.115027 -1.286573  0.152772 -1.626297  2.429129 -1.732050   \n",
       "3   -0.720797 -0.092085 -0.982726 -0.217920 -1.529132  1.347659 -1.674853   \n",
       "4   -0.720659 -0.694639 -0.034087 -0.992704 -1.141034 -0.009939 -1.444629   \n",
       "\n",
       "      ma_12    rsi_12     event     close  \n",
       "0  8.506598 -1.880503 -0.456953  2.338571  \n",
       "1  5.255354 -1.767605 -0.456953  2.945714  \n",
       "2  4.553852 -1.782792 -0.456953  2.750000  \n",
       "3  2.875177 -1.742103 -0.456953  2.941429  \n",
       "4  1.005462 -1.579137 -0.456953  3.678571  "
      ]
     },
     "execution_count": 2,
     "metadata": {},
     "output_type": "execute_result"
    }
   ],
   "source": [
    "apple_stock_df = pd.read_csv(\"./apple_stock_prepared.csv\")\n",
    "apple_stock_df.head()"
   ]
  },
  {
   "cell_type": "code",
   "execution_count": 3,
   "metadata": {},
   "outputs": [],
   "source": [
    "X = apple_stock_df[apple_stock_df.columns[0:-1]]\n",
    "Y = apple_stock_df[apple_stock_df.columns[-1]]"
   ]
  },
  {
   "cell_type": "code",
   "execution_count": 4,
   "metadata": {},
   "outputs": [],
   "source": [
    "from sklearn.model_selection import train_test_split"
   ]
  },
  {
   "cell_type": "code",
   "execution_count": 5,
   "metadata": {},
   "outputs": [],
   "source": [
    "import random\n",
    "random.seed(100)"
   ]
  },
  {
   "cell_type": "code",
   "execution_count": 6,
   "metadata": {},
   "outputs": [],
   "source": [
    "X_train, X_test, Y_train, Y_test = train_test_split(X,Y,test_size=0.2, random_state = 100)"
   ]
  },
  {
   "cell_type": "code",
   "execution_count": 7,
   "metadata": {},
   "outputs": [],
   "source": [
    "X_val, X_test, Y_val, Y_test = train_test_split(X_test,Y_test,test_size=0.5, random_state = 100)"
   ]
  },
  {
   "cell_type": "code",
   "execution_count": 8,
   "metadata": {},
   "outputs": [
    {
     "data": {
      "text/plain": [
       "(156, 16)"
      ]
     },
     "execution_count": 8,
     "metadata": {},
     "output_type": "execute_result"
    }
   ],
   "source": [
    "X_train.shape"
   ]
  },
  {
   "cell_type": "code",
   "execution_count": 9,
   "metadata": {},
   "outputs": [
    {
     "data": {
      "text/plain": [
       "(20, 16)"
      ]
     },
     "execution_count": 9,
     "metadata": {},
     "output_type": "execute_result"
    }
   ],
   "source": [
    "X_test.shape"
   ]
  },
  {
   "cell_type": "code",
   "execution_count": 10,
   "metadata": {},
   "outputs": [
    {
     "data": {
      "text/plain": [
       "(20, 16)"
      ]
     },
     "execution_count": 10,
     "metadata": {},
     "output_type": "execute_result"
    }
   ],
   "source": [
    "X_val.shape"
   ]
  },
  {
   "cell_type": "code",
   "execution_count": 11,
   "metadata": {},
   "outputs": [],
   "source": [
    "def num_steps(length: int, batch_size: int):\n",
    "    '''\n",
    "    calculates number of steps from dataset and the batch size\n",
    "    \n",
    "    Parameters\n",
    "    ----------\n",
    "    \n",
    "    length: the total length of the dataset\n",
    "    batch_size: size of each batch\n",
    "    \n",
    "    Returns\n",
    "    -------\n",
    "    \n",
    "    number_of_steps: number of steps per epoch\n",
    "    \n",
    "    '''\n",
    "    return length//batch_size + 1"
   ]
  },
  {
   "cell_type": "code",
   "execution_count": 12,
   "metadata": {},
   "outputs": [
    {
     "data": {
      "text/plain": [
       "16"
      ]
     },
     "execution_count": 12,
     "metadata": {},
     "output_type": "execute_result"
    }
   ],
   "source": [
    "batch_size = 10\n",
    "num_steps(len(X_train), batch_size)"
   ]
  },
  {
   "cell_type": "markdown",
   "metadata": {},
   "source": [
    "### 2.  Define the neural network layers and model."
   ]
  },
  {
   "cell_type": "code",
   "execution_count": 13,
   "metadata": {},
   "outputs": [],
   "source": [
    "from tensorflow.keras.models import Sequential\n",
    "from tensorflow.keras.layers import Dense, Dropout\n",
    "from tensorflow.keras.optimizers import RMSprop"
   ]
  },
  {
   "cell_type": "code",
   "execution_count": 14,
   "metadata": {},
   "outputs": [],
   "source": [
    "def stock_predictor_model(x_train):\n",
    "    '''\n",
    "    Define the stock predictor model\n",
    "    '''\n",
    "    stock_predictor = Sequential()\n",
    "    # One Dense layer with number of units same as features\n",
    "    stock_predictor.add(Dense(10, input_dim=x_train.shape[1],\n",
    "                    activation='relu',\n",
    "                    kernel_initializer='he_normal'))\n",
    "    stock_predictor.add(Dense(6, input_dim=10,\n",
    "                    activation='relu',\n",
    "                    kernel_initializer='he_normal'))\n",
    "    stock_predictor.add(Dense(3, input_dim=6,\n",
    "                activation='relu',\n",
    "                kernel_initializer='he_normal'))\n",
    "    # Final dense layer\n",
    "    stock_predictor.add(Dense(1, activation='relu',\n",
    "                    kernel_initializer='he_normal'))\n",
    "    # Using mse as loss and mape as the metric\n",
    "    stock_predictor.compile(loss='mean_squared_error',\n",
    "                  optimizer='rmsprop',\n",
    "                  metrics=['mape'])\n",
    "    return stock_predictor"
   ]
  },
  {
   "cell_type": "code",
   "execution_count": 15,
   "metadata": {},
   "outputs": [],
   "source": [
    "model = stock_predictor_model(X_train)"
   ]
  },
  {
   "cell_type": "markdown",
   "metadata": {},
   "source": [
    "### 3.  Visualize keras model by using Pydot"
   ]
  },
  {
   "cell_type": "code",
   "execution_count": 16,
   "metadata": {},
   "outputs": [
    {
     "data": {
      "text/html": [
       "<pre style=\"white-space:pre;overflow-x:auto;line-height:normal;font-family:Menlo,'DejaVu Sans Mono',consolas,'Courier New',monospace\"><span style=\"font-weight: bold\">Model: \"sequential\"</span>\n",
       "</pre>\n"
      ],
      "text/plain": [
       "\u001b[1mModel: \"sequential\"\u001b[0m\n"
      ]
     },
     "metadata": {},
     "output_type": "display_data"
    },
    {
     "data": {
      "text/html": [
       "<pre style=\"white-space:pre;overflow-x:auto;line-height:normal;font-family:Menlo,'DejaVu Sans Mono',consolas,'Courier New',monospace\">┏━━━━━━━━━━━━━━━━━━━━━━━━━━━━━━━━━━━━━━┳━━━━━━━━━━━━━━━━━━━━━━━━━━━━━┳━━━━━━━━━━━━━━━━━┓\n",
       "┃<span style=\"font-weight: bold\"> Layer (type)                         </span>┃<span style=\"font-weight: bold\"> Output Shape                </span>┃<span style=\"font-weight: bold\">         Param # </span>┃\n",
       "┡━━━━━━━━━━━━━━━━━━━━━━━━━━━━━━━━━━━━━━╇━━━━━━━━━━━━━━━━━━━━━━━━━━━━━╇━━━━━━━━━━━━━━━━━┩\n",
       "│ dense (<span style=\"color: #0087ff; text-decoration-color: #0087ff\">Dense</span>)                        │ (<span style=\"color: #00d7ff; text-decoration-color: #00d7ff\">None</span>, <span style=\"color: #00af00; text-decoration-color: #00af00\">10</span>)                  │             <span style=\"color: #00af00; text-decoration-color: #00af00\">170</span> │\n",
       "├──────────────────────────────────────┼─────────────────────────────┼─────────────────┤\n",
       "│ dense_1 (<span style=\"color: #0087ff; text-decoration-color: #0087ff\">Dense</span>)                      │ (<span style=\"color: #00d7ff; text-decoration-color: #00d7ff\">None</span>, <span style=\"color: #00af00; text-decoration-color: #00af00\">6</span>)                   │              <span style=\"color: #00af00; text-decoration-color: #00af00\">66</span> │\n",
       "├──────────────────────────────────────┼─────────────────────────────┼─────────────────┤\n",
       "│ dense_2 (<span style=\"color: #0087ff; text-decoration-color: #0087ff\">Dense</span>)                      │ (<span style=\"color: #00d7ff; text-decoration-color: #00d7ff\">None</span>, <span style=\"color: #00af00; text-decoration-color: #00af00\">3</span>)                   │              <span style=\"color: #00af00; text-decoration-color: #00af00\">21</span> │\n",
       "├──────────────────────────────────────┼─────────────────────────────┼─────────────────┤\n",
       "│ dense_3 (<span style=\"color: #0087ff; text-decoration-color: #0087ff\">Dense</span>)                      │ (<span style=\"color: #00d7ff; text-decoration-color: #00d7ff\">None</span>, <span style=\"color: #00af00; text-decoration-color: #00af00\">1</span>)                   │               <span style=\"color: #00af00; text-decoration-color: #00af00\">4</span> │\n",
       "└──────────────────────────────────────┴─────────────────────────────┴─────────────────┘\n",
       "</pre>\n"
      ],
      "text/plain": [
       "┏━━━━━━━━━━━━━━━━━━━━━━━━━━━━━━━━━━━━━━┳━━━━━━━━━━━━━━━━━━━━━━━━━━━━━┳━━━━━━━━━━━━━━━━━┓\n",
       "┃\u001b[1m \u001b[0m\u001b[1mLayer (type)                        \u001b[0m\u001b[1m \u001b[0m┃\u001b[1m \u001b[0m\u001b[1mOutput Shape               \u001b[0m\u001b[1m \u001b[0m┃\u001b[1m \u001b[0m\u001b[1m        Param #\u001b[0m\u001b[1m \u001b[0m┃\n",
       "┡━━━━━━━━━━━━━━━━━━━━━━━━━━━━━━━━━━━━━━╇━━━━━━━━━━━━━━━━━━━━━━━━━━━━━╇━━━━━━━━━━━━━━━━━┩\n",
       "│ dense (\u001b[38;5;33mDense\u001b[0m)                        │ (\u001b[38;5;45mNone\u001b[0m, \u001b[38;5;34m10\u001b[0m)                  │             \u001b[38;5;34m170\u001b[0m │\n",
       "├──────────────────────────────────────┼─────────────────────────────┼─────────────────┤\n",
       "│ dense_1 (\u001b[38;5;33mDense\u001b[0m)                      │ (\u001b[38;5;45mNone\u001b[0m, \u001b[38;5;34m6\u001b[0m)                   │              \u001b[38;5;34m66\u001b[0m │\n",
       "├──────────────────────────────────────┼─────────────────────────────┼─────────────────┤\n",
       "│ dense_2 (\u001b[38;5;33mDense\u001b[0m)                      │ (\u001b[38;5;45mNone\u001b[0m, \u001b[38;5;34m3\u001b[0m)                   │              \u001b[38;5;34m21\u001b[0m │\n",
       "├──────────────────────────────────────┼─────────────────────────────┼─────────────────┤\n",
       "│ dense_3 (\u001b[38;5;33mDense\u001b[0m)                      │ (\u001b[38;5;45mNone\u001b[0m, \u001b[38;5;34m1\u001b[0m)                   │               \u001b[38;5;34m4\u001b[0m │\n",
       "└──────────────────────────────────────┴─────────────────────────────┴─────────────────┘\n"
      ]
     },
     "metadata": {},
     "output_type": "display_data"
    },
    {
     "data": {
      "text/html": [
       "<pre style=\"white-space:pre;overflow-x:auto;line-height:normal;font-family:Menlo,'DejaVu Sans Mono',consolas,'Courier New',monospace\"><span style=\"font-weight: bold\"> Total params: </span><span style=\"color: #00af00; text-decoration-color: #00af00\">261</span> (1.02 KB)\n",
       "</pre>\n"
      ],
      "text/plain": [
       "\u001b[1m Total params: \u001b[0m\u001b[38;5;34m261\u001b[0m (1.02 KB)\n"
      ]
     },
     "metadata": {},
     "output_type": "display_data"
    },
    {
     "data": {
      "text/html": [
       "<pre style=\"white-space:pre;overflow-x:auto;line-height:normal;font-family:Menlo,'DejaVu Sans Mono',consolas,'Courier New',monospace\"><span style=\"font-weight: bold\"> Trainable params: </span><span style=\"color: #00af00; text-decoration-color: #00af00\">261</span> (1.02 KB)\n",
       "</pre>\n"
      ],
      "text/plain": [
       "\u001b[1m Trainable params: \u001b[0m\u001b[38;5;34m261\u001b[0m (1.02 KB)\n"
      ]
     },
     "metadata": {},
     "output_type": "display_data"
    },
    {
     "data": {
      "text/html": [
       "<pre style=\"white-space:pre;overflow-x:auto;line-height:normal;font-family:Menlo,'DejaVu Sans Mono',consolas,'Courier New',monospace\"><span style=\"font-weight: bold\"> Non-trainable params: </span><span style=\"color: #00af00; text-decoration-color: #00af00\">0</span> (0.00 B)\n",
       "</pre>\n"
      ],
      "text/plain": [
       "\u001b[1m Non-trainable params: \u001b[0m\u001b[38;5;34m0\u001b[0m (0.00 B)\n"
      ]
     },
     "metadata": {},
     "output_type": "display_data"
    }
   ],
   "source": [
    "model.summary()"
   ]
  },
  {
   "cell_type": "code",
   "execution_count": 17,
   "metadata": {},
   "outputs": [],
   "source": [
    "import os\n",
    "os.environ[\"PATH\"] += os.pathsep + 'C:/Program Files (x86)/Graphviz2.38/bin/'"
   ]
  },
  {
   "cell_type": "code",
   "execution_count": 18,
   "metadata": {},
   "outputs": [
    {
     "data": {
      "image/png": "[encoded data removed]",
      "text/plain": [
       "<IPython.core.display.Image object>"
      ]
     },
     "execution_count": 18,
     "metadata": {},
     "output_type": "execute_result"
    }
   ],
   "source": [
    "from tensorflow.keras.utils import plot_model\n",
    "plot_model(model, to_file='model.png', show_shapes=True, show_layer_names=True)"
   ]
  },
  {
   "cell_type": "code",
   "execution_count": null,
   "metadata": {},
   "outputs": [],
   "source": []
  }
 ],
 "metadata": {
  "kernelspec": {
   "display_name": "Python 3 (ipykernel)",
   "language": "python",
   "name": "python3"
  },
  "language_info": {
   "codemirror_mode": {
    "name": "ipython",
    "version": 3
   },
   "file_extension": ".py",
   "mimetype": "text/x-python",
   "name": "python",
   "nbconvert_exporter": "python",
   "pygments_lexer": "ipython3",
   "version": "3.11.9"
  }
 },
 "nbformat": 4,
 "nbformat_minor": 4
}
